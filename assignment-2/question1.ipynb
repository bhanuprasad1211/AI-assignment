{
 "cells": [
  {
   "cell_type": "code",
   "execution_count": 33,
   "id": "bc6147bd",
   "metadata": {},
   "outputs": [],
   "source": [
    "directions = [(-1, -1), (-1, 0), (-1, 1), (0, -1), (0, 1), (1, -1), (1, 0), (1, 1)]"
   ]
  },
  {
   "cell_type": "code",
   "execution_count": 41,
   "id": "eb83ba10",
   "metadata": {},
   "outputs": [],
   "source": [
    "# Heuristic function (Euclidean distance squared to avoid sqrt)\n",
    "def heuristic(a, b):\n",
    "    (x1, y1), (x2, y2) = a, b\n",
    "    return (x1 - x2) * (x1 - x2) + (y1 - y2) * (y1 - y2)"
   ]
  },
  {
   "cell_type": "code",
   "execution_count": 35,
   "id": "ac0be809",
   "metadata": {},
   "outputs": [],
   "source": [
    "# Check if a cell is inside the grid and walkable\n",
    "def is_valid(x, y, n, grid):\n",
    "    return 0 <= x < n and 0 <= y < n and grid[x][y] == 0"
   ]
  },
  {
   "cell_type": "code",
   "execution_count": 36,
   "id": "3cbab6dc",
   "metadata": {},
   "outputs": [],
   "source": [
    "#Best First Search (Greedy)\n",
    "def best_first_search(grid):\n",
    "    n = len(grid)\n",
    "    start, goal = (0, 0), (n - 1, n - 1)\n",
    "\n",
    "    if grid[0][0] != 0 or grid[n - 1][n - 1] != 0:\n",
    "        return -1, []\n",
    "\n",
    "    open_list = [(heuristic(start, goal), start)]  # (priority, node)\n",
    "    parent = {start: None}\n",
    "    visited = set()\n",
    "\n",
    "    while open_list:\n",
    "        # Pick node with smallest heuristic\n",
    "        open_list.sort(key=lambda x: x[0])\n",
    "        _, current = open_list.pop(0)\n",
    "\n",
    "        if current in visited:\n",
    "            continue\n",
    "        visited.add(current)\n",
    "\n",
    "        if current == goal:\n",
    "            # Reconstruct path\n",
    "            path = []\n",
    "            while current:\n",
    "                path.append(current)\n",
    "                current = parent[current]\n",
    "            path.reverse()\n",
    "            return len(path), path\n",
    "\n",
    "        x, y = current\n",
    "        for dx, dy in directions:\n",
    "            nx, ny = x + dx, y + dy\n",
    "            if is_valid(nx, ny, n, grid) and (nx, ny) not in visited:\n",
    "                parent[(nx, ny)] = current\n",
    "                open_list.append((heuristic((nx, ny), goal), (nx, ny)))\n",
    "\n",
    "    return -1, []"
   ]
  },
  {
   "cell_type": "code",
   "execution_count": 37,
   "id": "a473af61",
   "metadata": {},
   "outputs": [],
   "source": [
    "#A* Search\n",
    "def a_star_search(grid):\n",
    "    n = len(grid)\n",
    "    start, goal = (0, 0), (n - 1, n - 1)\n",
    "\n",
    "    if grid[0][0] != 0 or grid[n - 1][n - 1] != 0:\n",
    "        return -1, []\n",
    "\n",
    "    g_score = {start: 0}\n",
    "    f_score = {start: heuristic(start, goal)}\n",
    "\n",
    "    open_list = [(f_score[start], start)]\n",
    "    parent = {start: None}\n",
    "    visited = set()\n",
    "\n",
    "    while open_list:\n",
    "        # Pick node with smallest f_score\n",
    "        open_list.sort(key=lambda x: x[0])\n",
    "        _, current = open_list.pop(0)\n",
    "\n",
    "        if current in visited:\n",
    "            continue\n",
    "        visited.add(current)\n",
    "\n",
    "        if current == goal:\n",
    "            # Reconstruct path\n",
    "            path = []\n",
    "            while current:\n",
    "                path.append(current)\n",
    "                current = parent[current]\n",
    "            path.reverse()\n",
    "            return len(path), path\n",
    "\n",
    "        x, y = current\n",
    "        for dx, dy in directions:\n",
    "            nx, ny = x + dx, y + dy\n",
    "            if not is_valid(nx, ny, n, grid):\n",
    "                continue\n",
    "\n",
    "            tentative_g = g_score[current] + 1\n",
    "            if tentative_g < g_score.get((nx, ny), 10**9):\n",
    "                parent[(nx, ny)] = current\n",
    "                g_score[(nx, ny)] = tentative_g\n",
    "                f_score[(nx, ny)] = tentative_g + heuristic((nx, ny), goal)\n",
    "                open_list.append((f_score[(nx, ny)], (nx, ny)))\n",
    "\n",
    "    return -1, []"
   ]
  },
  {
   "cell_type": "code",
   "execution_count": 38,
   "id": "d5123ebb",
   "metadata": {},
   "outputs": [
    {
     "name": "stdout",
     "output_type": "stream",
     "text": [
      "Best First Search → Path length: 2 Path: [(0, 0), (1, 1)]\n",
      "A* Search         → Path length: 2 Path: [(0, 0), (1, 1)]\n"
     ]
    }
   ],
   "source": [
    "#Test Case-1\n",
    "grid = [\n",
    "    [0, 1],\n",
    "    [1, 0]\n",
    "]\n",
    "\n",
    "bfs_len, bfs_path = best_first_search(grid)\n",
    "print(\"Best First Search → Path length:\", bfs_len, \"Path:\", bfs_path if bfs_len != -1 else \"\")\n",
    "\n",
    "astar_len, astar_path = a_star_search(grid)\n",
    "print(\"A* Search         → Path length:\", astar_len, \"Path:\", astar_path if astar_len != -1 else \"\")\n"
   ]
  },
  {
   "cell_type": "code",
   "execution_count": 39,
   "id": "ca69efd0",
   "metadata": {},
   "outputs": [
    {
     "name": "stdout",
     "output_type": "stream",
     "text": [
      "Best First Search → Path length: 4 Path: [(0, 0), (0, 1), (1, 2), (2, 2)]\n",
      "A* Search         → Path length: 4 Path: [(0, 0), (0, 1), (1, 2), (2, 2)]\n"
     ]
    }
   ],
   "source": [
    "#Test Case-2\n",
    "grid = [\n",
    "    [0, 0, 0],\n",
    "    [1, 1, 0],\n",
    "    [1, 1, 0]\n",
    "]\n",
    "\n",
    "bfs_len, bfs_path = best_first_search(grid)\n",
    "print(\"Best First Search → Path length:\", bfs_len, \"Path:\", bfs_path if bfs_len != -1 else \"\")\n",
    "\n",
    "astar_len, astar_path = a_star_search(grid)\n",
    "print(\"A* Search         → Path length:\", astar_len, \"Path:\", astar_path if astar_len != -1 else \"\")\n"
   ]
  },
  {
   "cell_type": "code",
   "execution_count": 40,
   "id": "fea9e469",
   "metadata": {},
   "outputs": [
    {
     "name": "stdout",
     "output_type": "stream",
     "text": [
      "Best First Search → Path length: -1 Path: \n",
      "A* Search         → Path length: -1 Path: \n"
     ]
    }
   ],
   "source": [
    "#Test Case-3\n",
    "grid = [\n",
    "    [1, 0, 0],\n",
    "    [1, 1, 0],\n",
    "    [1, 1, 0]\n",
    "]\n",
    "\n",
    "bfs_len, bfs_path = best_first_search(grid)\n",
    "print(\"Best First Search → Path length:\", bfs_len, \"Path:\", bfs_path if bfs_len != -1 else \"\")\n",
    "\n",
    "astar_len, astar_path = a_star_search(grid)\n",
    "print(\"A* Search         → Path length:\", astar_len, \"Path:\", astar_path if astar_len != -1 else \"\")"
   ]
  },
  {
   "cell_type": "markdown",
   "id": "e2cdddfb",
   "metadata": {},
   "source": [
    "##### **A short comparison (1–2 paragraphs) discussing differences in results and performance.**\n",
    "\n",
    "Best First Search (BFS) and A\\* Search are both informed search algorithms that use heuristics to guide the search process. BFS selects the next node to explore based solely on the heuristic estimate of the distance to the goal, without considering the cost already incurred. As a result, it may find a path quickly, but the path is not guaranteed to be the shortest, and the algorithm can get trapped exploring paths that seem promising but are actually suboptimal.\n",
    "\n",
    "In contrast, A\\* Search combines the heuristic estimate with the actual cost from the start node (using $f(n) = g(n) + h(n)$), which ensures that it not only follows promising paths but also accounts for the total path cost. This makes A\\* both complete and optimal when an admissible heuristic is used. Performance-wise, A\\* often explores fewer nodes than Best First Search when the heuristic is good because it balances cost-so-far and estimated cost-to-goal, resulting in more efficient searches, although its computation per node can be slightly higher due to the additional cost calculations."
   ]
  }
 ],
 "metadata": {
  "kernelspec": {
   "display_name": "Python 3",
   "language": "python",
   "name": "python3"
  },
  "language_info": {
   "codemirror_mode": {
    "name": "ipython",
    "version": 3
   },
   "file_extension": ".py",
   "mimetype": "text/x-python",
   "name": "python",
   "nbconvert_exporter": "python",
   "pygments_lexer": "ipython3",
   "version": "3.11.9"
  }
 },
 "nbformat": 4,
 "nbformat_minor": 5
}
